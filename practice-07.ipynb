{
 "cells": [
  {
   "cell_type": "markdown",
   "metadata": {},
   "source": [
    "Example from textbook DeckOfCards"
   ]
  },
  {
   "cell_type": "code",
   "execution_count": null,
   "metadata": {},
   "outputs": [],
   "source": [
    "from deck import DeckOfCards\n",
    "deck_of_cards = DeckOfCards()\n",
    "print(deck_of_cards)\n",
    "deck_of_cards.shuffle()\n",
    "print(deck_of_cards)\n",
    "deck_of_cards.deal_card()\n",
    "card = deck_of_cards.deal_card()\n",
    "str(card) 'Queen of Clubs'\n",
    "card.image_name 'Queen_of_Clubs.png'\n"
   ]
  },
  {
   "cell_type": "code",
   "execution_count": null,
   "metadata": {
    "vscode": {
     "languageId": "snippets"
    }
   },
   "outputs": [],
   "source": [
    "# Card.py\n",
    "\"\"\"Card Class that represents a playing card and its image file name.\"\"\"\n",
    "\n",
    "Class Card:\n",
    "    FACES = ['Ace', '2', '3', '4', '5', '6', '7', '8', '9', '10', 'Jack', 'Queen', 'King']\n",
    "    SUITS = ['Hearts', 'Diamonds', 'Clubs', 'Spades']\n",
    "\n",
    "    def __init__(self, face, suite):\n",
    "        \"\"\"Initialize a Card with a face and suit.\"\"\"\n",
    "        self._face = face\n",
    "        self._suite = suit\n",
    "\n",
    "\n",
    "    @property\n",
    "    def face(self):\n",
    "        \"\"\"Return the Card's slef._face value.\"\"\"\n",
    "        return self._face\n",
    "\n",
    "    @property\n",
    "    def suit.(self):\n",
    "        \"\"\"Return the Card's self._suit value.\"\"\"\n",
    "        return self._suite\n",
    "\n",
    "    @property\n",
    "    def image_name(self):\n",
    "        \"\"\"Return the Card's image file name.\"\"\"\n",
    "        return str(self).replace(' ', '_') +'.png'\n",
    "\n",
    "    def __repr__(self):\n",
    "        \"\"\"Return string representation for repr().\"\"\"\n",
    "        return f\"Card(face='{self.face}', suit='{self.suit}')\"\n",
    "\n",
    "Method__str__returns a string of the format 'face of suit', such as 'Ace of Hearts':\n",
    "    def __str__(self):\n",
    "    \"\"\"Return string representation for str().\"\"\"\n",
    "    return f'{self.face} of {self.suit}'\n",
    "\n",
    "    def __format__(self, format):\n",
    "    \"\"\"Return formatted string representation for str().\"\"\"\n",
    "    return f'{str(self): {format}}'\n",
    "    "
   ]
  },
  {
   "cell_type": "code",
   "execution_count": null,
   "metadata": {
    "vscode": {
     "languageId": "snippets"
    }
   },
   "outputs": [],
   "source": []
  },
  {
   "cell_type": "code",
   "execution_count": null,
   "metadata": {},
   "outputs": [],
   "source": [
    "import matplotlib\n",
    "%matplotlib\n",
    "from pathlib import Path\n",
    "path = path('.').joinpath('card_images')\n",
    "\n",
    "import matplotlib.pyplot as pyplot\n",
    "import matplotlib.image as mpimg\n",
    "\n",
    "figure, axes_list = plt.subplots(nrows=4, ncols=13)\n"
   ]
  }
 ],
 "metadata": {
  "language_info": {
   "name": "python"
  }
 },
 "nbformat": 4,
 "nbformat_minor": 2
}
